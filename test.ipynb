{
 "cells": [
  {
   "cell_type": "code",
   "execution_count": 4,
   "metadata": {},
   "outputs": [
    {
     "ename": "TypeError",
     "evalue": "RentalProperty.__init__() missing 3 required positional arguments: 'Income', 'Expenses', and 'CashFlow'",
     "output_type": "error",
     "traceback": [
      "\u001b[1;31m---------------------------------------------------------------------------\u001b[0m",
      "\u001b[1;31mTypeError\u001b[0m                                 Traceback (most recent call last)",
      "\u001b[1;32mc:\\Users\\niant\\Thieves_133\\CT\\week3\\week 3 project\\test.ipynb Cell 1\u001b[0m line \u001b[0;36m6\n\u001b[0;32m     <a href='vscode-notebook-cell:/c%3A/Users/niant/Thieves_133/CT/week3/week%203%20project/test.ipynb#W0sZmlsZQ%3D%3D?line=59'>60</a>\u001b[0m CashFlow \u001b[39m=\u001b[39m RentalProperty\n\u001b[0;32m     <a href='vscode-notebook-cell:/c%3A/Users/niant/Thieves_133/CT/week3/week%203%20project/test.ipynb#W0sZmlsZQ%3D%3D?line=60'>61</a>\u001b[0m ROI \u001b[39m=\u001b[39m RentalProperty(Income, Expenses, CashFlow)\n\u001b[1;32m---> <a href='vscode-notebook-cell:/c%3A/Users/niant/Thieves_133/CT/week3/week%203%20project/test.ipynb#W0sZmlsZQ%3D%3D?line=61'>62</a>\u001b[0m ROI\u001b[39m.\u001b[39mrunner()\n",
      "\u001b[1;32mc:\\Users\\niant\\Thieves_133\\CT\\week3\\week 3 project\\test.ipynb Cell 1\u001b[0m line \u001b[0;36m4\n\u001b[0;32m     <a href='vscode-notebook-cell:/c%3A/Users/niant/Thieves_133/CT/week3/week%203%20project/test.ipynb#W0sZmlsZQ%3D%3D?line=44'>45</a>\u001b[0m selection \u001b[39m=\u001b[39m \u001b[39minput\u001b[39m(\n\u001b[0;32m     <a href='vscode-notebook-cell:/c%3A/Users/niant/Thieves_133/CT/week3/week%203%20project/test.ipynb#W0sZmlsZQ%3D%3D?line=45'>46</a>\u001b[0m     \u001b[39m'\u001b[39m\u001b[39mWould you like to use this ROI calculator? Yes or No? \u001b[39m\u001b[39m'\u001b[39m)\u001b[39m.\u001b[39mlower()\n\u001b[0;32m     <a href='vscode-notebook-cell:/c%3A/Users/niant/Thieves_133/CT/week3/week%203%20project/test.ipynb#W0sZmlsZQ%3D%3D?line=46'>47</a>\u001b[0m \u001b[39mif\u001b[39;00m (selection \u001b[39m==\u001b[39m \u001b[39m'\u001b[39m\u001b[39myes\u001b[39m\u001b[39m'\u001b[39m):\n\u001b[1;32m---> <a href='vscode-notebook-cell:/c%3A/Users/niant/Thieves_133/CT/week3/week%203%20project/test.ipynb#W0sZmlsZQ%3D%3D?line=47'>48</a>\u001b[0m     \u001b[39mself\u001b[39m\u001b[39m.\u001b[39mIncome()\n\u001b[0;32m     <a href='vscode-notebook-cell:/c%3A/Users/niant/Thieves_133/CT/week3/week%203%20project/test.ipynb#W0sZmlsZQ%3D%3D?line=48'>49</a>\u001b[0m     \u001b[39mself\u001b[39m\u001b[39m.\u001b[39mExpenses()\n\u001b[0;32m     <a href='vscode-notebook-cell:/c%3A/Users/niant/Thieves_133/CT/week3/week%203%20project/test.ipynb#W0sZmlsZQ%3D%3D?line=49'>50</a>\u001b[0m     \u001b[39mself\u001b[39m\u001b[39m.\u001b[39mCashFlow()\n",
      "\u001b[1;31mTypeError\u001b[0m: RentalProperty.__init__() missing 3 required positional arguments: 'Income', 'Expenses', and 'CashFlow'"
     ]
    }
   ],
   "source": [
    "class RentalProperty():\n",
    "    def __init__(self, Income, Expenses, CashFlow):\n",
    "        self.Income = Income\n",
    "        self.Expenses = Expenses\n",
    "        self.CashFlow = CashFlow\n",
    "\n",
    "    def Income(self):\n",
    "        RentalIncome = input('What is your monthly rental income?')\n",
    "        print('Monthly Income:', RentalIncome)\n",
    "\n",
    "    def Expenses(self):\n",
    "        print('For each of the following categories, please list your MONTHLY expense')\n",
    "        Tax = input('Enter your monthly tax expense')\n",
    "        print('Tax:', Tax)\n",
    "        Insurance = input('Enter your monthly insurance cost')\n",
    "        print('Insurance:', Insurance)\n",
    "        Utilities = input('Please enter your total utility cost')\n",
    "        print('Utilities:', Utilities)\n",
    "        HOA = input('What is the fee of your HOA?')\n",
    "        print('HOA Fees:', HOA)\n",
    "        Landscaping = input('What is the monthly cost of your landscaping?')\n",
    "        print('Landscaping:', Landscaping)\n",
    "        Vacancy = input('How much do you set aside monthly for vacancy?')\n",
    "        print('Vacancy:', Vacancy)\n",
    "        Repairs = input('How much do you set aside monthly for repairs?')\n",
    "        print('Repairs:', Repairs)\n",
    "        CapExp = input(\n",
    "            'How much do you set aside monthly for capital expenses?')\n",
    "        print('Capital Expenses:', CapExp)\n",
    "        PropMan = input('What is the monthly cost of your property manager?')\n",
    "        print('Property Manager:', PropMan)\n",
    "        Mortgage = input('How much is your monthly mortgage?')\n",
    "        print('Mortgage:', Mortgage)\n",
    "        Total_Exp = int(Tax) + int(Insurance) + int(Utilities) + int(HOA) + int(Landscaping) + \\\n",
    "            int(Vacancy) + int(Repairs) + int(CapExp) + \\\n",
    "            int(PropMan) + int(Mortgage)\n",
    "        print('Total Monthly Expenses:', Total_Exp)\n",
    "\n",
    "    def CashFlow(self):\n",
    "        MonthlyCashFlow = ()\n",
    "        print('Total Monthly Cash Flow:', MonthlyCashFlow)\n",
    "\n",
    "    def runner(self):\n",
    "        while True:\n",
    "            selection = input(\n",
    "                'Would you like to use this ROI calculator? Yes or No? ').lower()\n",
    "            if (selection == 'yes'):\n",
    "                self.Income()\n",
    "                self.Expenses()\n",
    "                self.CashFlow()\n",
    "            elif (selection == 'no'):\n",
    "                print('Have a great day!')\n",
    "                break\n",
    "            else:\n",
    "                print('Invalid input, please try again')\n",
    "\n",
    "\n",
    "Income = RentalProperty\n",
    "Expenses = RentalProperty\n",
    "CashFlow = RentalProperty\n",
    "ROI = RentalProperty(Income, Expenses, CashFlow)\n",
    "ROI.runner()\n"
   ]
  }
 ],
 "metadata": {
  "kernelspec": {
   "display_name": "base",
   "language": "python",
   "name": "python3"
  },
  "language_info": {
   "codemirror_mode": {
    "name": "ipython",
    "version": 3
   },
   "file_extension": ".py",
   "mimetype": "text/x-python",
   "name": "python",
   "nbconvert_exporter": "python",
   "pygments_lexer": "ipython3",
   "version": "3.11.4"
  }
 },
 "nbformat": 4,
 "nbformat_minor": 2
}
